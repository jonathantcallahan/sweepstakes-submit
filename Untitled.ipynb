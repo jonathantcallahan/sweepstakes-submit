{
 "cells": [
  {
   "cell_type": "code",
   "execution_count": null,
   "metadata": {},
   "outputs": [],
   "source": [
    "from splinter import Browser\n",
    "import datetime as dt\n",
    "import string\n",
    "import random\n",
    "import names\n",
    "import time\n",
    "\n",
    "browser = Browser('chrome', executable_path='chromedriver', headless=False)\n",
    "\n",
    "url = 'https://woobox.com/2ug7ia/'\n",
    "\n",
    "def random_string():\n",
    "    string_list = []\n",
    "    for i in range(5):\n",
    "        string_list.append(random.choice(string.ascii_letters))\n",
    "        \n",
    "    email = list('jtc7537')\n",
    "    email.insert(random.randint(1, 6), '.')\n",
    "            \n",
    "    return (''.join(email) + '+' + ''.join(string_list) + '@gmail.com')\n",
    "\n",
    "\n",
    "for i in range(1000):\n",
    "    browser.visit(url)\n",
    "    browser.is_element_present_by_css('#yourname_first', wait_time=1)\n",
    "    browser.fill('yourname_first',names.get_first_name(gender='female'))\n",
    "    browser.fill('yourname_last',names.get_last_name())\n",
    "    browser.fill('email',random_string())\n",
    "    browser.find_by_css('#actionbutton').click()\n",
    "\n",
    "\n"
   ]
  },
  {
   "cell_type": "code",
   "execution_count": null,
   "metadata": {},
   "outputs": [],
   "source": []
  }
 ],
 "metadata": {
  "kernelspec": {
   "display_name": "Python 3",
   "language": "python",
   "name": "python3"
  },
  "language_info": {
   "codemirror_mode": {
    "name": "ipython",
    "version": 3
   },
   "file_extension": ".py",
   "mimetype": "text/x-python",
   "name": "python",
   "nbconvert_exporter": "python",
   "pygments_lexer": "ipython3",
   "version": "3.7.0"
  }
 },
 "nbformat": 4,
 "nbformat_minor": 2
}
